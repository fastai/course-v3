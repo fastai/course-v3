{
 "cells": [
  {
   "cell_type": "code",
   "execution_count": null,
   "metadata": {},
   "outputs": [
    {
     "name": "stdout",
     "output_type": "stream",
     "text": [
      "Installing packages:\n",
      "\t.package(path: \"/home/saeta/fastai_docs/dev_swift/FastaiNotebook_10_mixup_ls\")\n",
      "\t\tFastaiNotebook_10_mixup_ls\n",
      "With SwiftPM flags: []\n",
      "Working in: /tmp/tmpi1s5nihp/swift-install\n",
      "[1/2] Compiling jupyterInstalledPackages jupyterInstalledPackages.swift\n",
      "[2/3] Merging module jupyterInstalledPackages\n",
      "Initializing Swift...\n",
      "Installation complete!\n"
     ]
    }
   ],
   "source": [
    "%install-location $cwd/swift-install\n",
    "%install '.package(path: \"$cwd/FastaiNotebook_10_mixup_ls\")' FastaiNotebook_10_mixup_ls"
   ]
  },
  {
   "cell_type": "code",
   "execution_count": null,
   "metadata": {},
   "outputs": [],
   "source": [
    "import Foundation\n",
    "import TensorFlow\n",
    "import FastaiNotebook_10_mixup_ls\n",
    "import Path"
   ]
  },
  {
   "cell_type": "code",
   "execution_count": null,
   "metadata": {},
   "outputs": [
    {
     "data": {
      "text/plain": [
       "('inline', 'module://ipykernel.pylab.backend_inline')\n"
      ]
     },
     "execution_count": null,
     "metadata": {},
     "output_type": "execute_result"
    }
   ],
   "source": [
    "%include \"EnableIPythonDisplay.swift\"\n",
    "IPythonDisplay.shell.enable_matplotlib(\"inline\")"
   ]
  },
  {
   "cell_type": "markdown",
   "metadata": {},
   "source": [
    "## Laying the groundwork"
   ]
  },
  {
   "cell_type": "markdown",
   "metadata": {},
   "source": [
    "### Downloading the data"
   ]
  },
  {
   "cell_type": "code",
   "execution_count": null,
   "metadata": {},
   "outputs": [],
   "source": [
    "// hardcoded, should really generalise\n",
    "public func downloadSpeakers(path: Path = dataPath) -> Path {\n",
    "    let url = \"http://www.openslr.org/resources/45/ST-AEDS-20180100_1-OS.tgz\"\n",
    "    let fname = \"ST-AEDS-20180100_1-OS\"\n",
    "    let outDir = path/fname\n",
    "    let outFile = path/\"\\(fname).tgz\"\n",
    "    try! outDir.mkdir(.p)\n",
    "    if !outFile.exists {\n",
    "        downloadFile(url, dest:outFile.string)\n",
    "        _ = \"/bin/tar\".shell(\"-xzf\", outFile.string, \"-C\", outDir.string)\n",
    "    }\n",
    "    print(outDir, type(of: outDir))\n",
    "    return outDir\n",
    "}"
   ]
  },
  {
   "cell_type": "code",
   "execution_count": null,
   "metadata": {},
   "outputs": [
    {
     "name": "stdout",
     "output_type": "stream",
     "text": [
      "/home/saeta/.fastai/data/ST-AEDS-20180100_1-OS Path\r\n"
     ]
    }
   ],
   "source": [
    "let path = downloadSpeakers()"
   ]
  },
  {
   "cell_type": "markdown",
   "metadata": {},
   "source": [
    "### Opening WAVs in TensorFlow"
   ]
  },
  {
   "cell_type": "markdown",
   "metadata": {},
   "source": [
    "Luckily, TensorFlow has a \"decodeWav\" function. Let's extend the StringTensor to provide swifty access to this function, the same way we did with JPGs."
   ]
  },
  {
   "cell_type": "code",
   "execution_count": null,
   "metadata": {},
   "outputs": [],
   "source": [
    "public extension StringTensor {\n",
    "    // Decode a StringTensor holding a path to a WAV file into (audio: Tensor<Float>, sampleRate: Tensor<Int32>)\n",
    "    func decodeWav() -> (audio: Tensor<Float>, sampleRate: Tensor<Int32>) {\n",
    "        return Raw.decodeWav(contents: self)\n",
    "    }\n",
    "}"
   ]
  },
  {
   "cell_type": "markdown",
   "metadata": {},
   "source": [
    "### Single example file"
   ]
  },
  {
   "cell_type": "code",
   "execution_count": null,
   "metadata": {},
   "outputs": [
    {
     "name": "stdout",
     "output_type": "stream",
     "text": [
      "/home/saeta/.fastai/data/ST-AEDS-20180100_1-OS/m0002_us_m0002_00056.wav\r\n"
     ]
    }
   ],
   "source": [
    "let wav = path.ls()[0].path.string\n",
    "print(wav)"
   ]
  },
  {
   "cell_type": "code",
   "execution_count": null,
   "metadata": {},
   "outputs": [],
   "source": [
    "let (sig, sr) = StringTensor(readFile: wav).decodeWav()"
   ]
  },
  {
   "cell_type": "markdown",
   "metadata": {},
   "source": [
    "### To Spectrogram"
   ]
  },
  {
   "cell_type": "markdown",
   "metadata": {},
   "source": [
    "Luckily, TensorFlow has a couple of basic signal ops, including to Spectrogram."
   ]
  },
  {
   "cell_type": "code",
   "execution_count": null,
   "metadata": {},
   "outputs": [],
   "source": [
    "let spec = Raw.audioSpectrogram(sig, \n",
    "                                windowSize: 1024, stride: 256, magnitudeSquared: false)"
   ]
  },
  {
   "cell_type": "markdown",
   "metadata": {},
   "source": [
    "Utility to look at a spectrogram. Note the axes don't line up with what you'd expect from a typical spectrogram - here the X axis is frequency and the Y axis is time."
   ]
  },
  {
   "cell_type": "code",
   "execution_count": null,
   "metadata": {},
   "outputs": [],
   "source": [
    "func showSpec(s: Tensor<Float>) {\n",
    "    plt.imshow(s.makeNumpyArray()[0], cmap: \"plasma\")\n",
    "    plt.show()\n",
    "    print(\"Shape: \\(s.shape)\\nMin:\\(s.min()), max: \\(s.max()), mean: \\(s.mean()), var: \\(s.variance())\")\n",
    "}"
   ]
  },
  {
   "cell_type": "code",
   "execution_count": null,
   "metadata": {},
   "outputs": [
    {
     "data": {
      "image/png": "[encoded data removed]",
      "text/plain": [
       "<Figure size 432x288 with 1 Axes>"
      ]
     },
     "metadata": {
      "needs_background": "light"
     },
     "output_type": "display_data"
    },
    {
     "name": "stdout",
     "output_type": "stream",
     "text": [
      "Shape: [1, 209, 513]\r\n",
      "Min:1.2907397e-05, max: 16.511257, mean: 0.076232545, var: 0.15422489\r\n"
     ]
    }
   ],
   "source": [
    "showSpec(s: spec)"
   ]
  },
  {
   "cell_type": "markdown",
   "metadata": {},
   "source": [
    "### To MFCCs"
   ]
  },
  {
   "cell_type": "markdown",
   "metadata": {},
   "source": [
    "Note that MFCCs are different from melspectrograms. It seems TF doesn't have a melspectrogram transform built-in. MFCCs at least have been used before so it doesn't seem crazy to use them instead, although they are generally used to intentionally reduce the dimensionality of the data, so we might be throwing away info that the NN could use. On the other hand we might be making it easier for the NN to find features it would've had to spend time finding itself. We'll give it a shot. On the plus side, it means much \"smaller images\"."
   ]
  },
  {
   "cell_type": "markdown",
   "metadata": {},
   "source": [
    "[TF defaults](https://github.com/tensorflow/tensorflow/blob/master/tensorflow/core/ops/audio_ops.cc#L147) for MFCCs:\n",
    "```\n",
    "    .Attr(\"upper_frequency_limit: float = 4000\")\n",
    "    .Attr(\"lower_frequency_limit: float = 20\")\n",
    "    .Attr(\"filterbank_channel_count: int = 40\")\n",
    "    .Attr(\"dct_coefficient_count: int = 13\")\n",
    "```"
   ]
  },
  {
   "cell_type": "code",
   "execution_count": null,
   "metadata": {},
   "outputs": [],
   "source": [
    "let mfccs = Raw.mfcc(spectrogram: spec, sampleRate: sr, \n",
    "                       upperFrequencyLimit: 8000, lowerFrequencyLimit: 20, \n",
    "                       filterbankChannelCount: 40, dctCoefficientCount: 13)"
   ]
  },
  {
   "cell_type": "code",
   "execution_count": null,
   "metadata": {},
   "outputs": [
    {
     "data": {
      "image/png": "[encoded data removed]",
      "text/plain": [
       "<Figure size 432x288 with 1 Axes>"
      ]
     },
     "metadata": {
      "needs_background": "light"
     },
     "output_type": "display_data"
    },
    {
     "name": "stdout",
     "output_type": "stream",
     "text": [
      "Shape: [1, 209, 13]\r\n",
      "Min:-8.186757, max: 13.762619, mean: -0.015072358, var: 4.264482\r\n"
     ]
    }
   ],
   "source": [
    "showSpec(s: mfccs)"
   ]
  },
  {
   "cell_type": "markdown",
   "metadata": {},
   "source": [
    "## Using fastai - datablocks, labelers, splitters etc."
   ]
  },
  {
   "cell_type": "code",
   "execution_count": null,
   "metadata": {},
   "outputs": [],
   "source": [
    "let il = ItemList(fromFolder: path, extensions: [\"wav\", \"WAV\"])"
   ]
  },
  {
   "cell_type": "code",
   "execution_count": null,
   "metadata": {},
   "outputs": [],
   "source": [
    "// export\n",
    "public func randomSplitter(fName: Path, val_pct: Float) -> Bool {\n",
    "    return Float.random(in: 0.0...1.0) < val_pct\n",
    "}"
   ]
  },
  {
   "cell_type": "code",
   "execution_count": null,
   "metadata": {},
   "outputs": [],
   "source": [
    "let sd = SplitData(il) { randomSplitter(fName: $0, val_pct: 0.2) }"
   ]
  },
  {
   "cell_type": "markdown",
   "metadata": {},
   "source": [
    "We need a RegexLabeler. In python this was\n",
    "```python\n",
    "def re_labeler(fn, pat): return re.findall(pat, str(fn))[0]\n",
    "```"
   ]
  },
  {
   "cell_type": "code",
   "execution_count": null,
   "metadata": {},
   "outputs": [],
   "source": [
    "public func reLabeler(_ fName: Path, pat: String) -> String {\n",
    "    // Gotta slice the input using the found range, then cast that `Substring` to `String`\n",
    "    // Seems too clunky to be true but it does work\n",
    "    // Needs a guard if re doesn't match\n",
    "    return String(fName.string[fName.string.findFirst(pat: pat)!])\n",
    "}"
   ]
  },
  {
   "cell_type": "code",
   "execution_count": null,
   "metadata": {},
   "outputs": [],
   "source": [
    "let pat = \"[mf]\\\\d+\""
   ]
  },
  {
   "cell_type": "code",
   "execution_count": null,
   "metadata": {},
   "outputs": [],
   "source": [
    "let wavpath = sd.train.items[0]"
   ]
  },
  {
   "cell_type": "code",
   "execution_count": null,
   "metadata": {},
   "outputs": [
    {
     "name": "stdout",
     "output_type": "stream",
     "text": [
      "m0002\r\n"
     ]
    }
   ],
   "source": [
    "print(reLabeler(wavpath, pat: pat))"
   ]
  },
  {
   "cell_type": "code",
   "execution_count": null,
   "metadata": {},
   "outputs": [],
   "source": [
    "// Surely this isn't how I'm supposed to do a 'partial' in Swift??\n",
    "// Only doing it because I couldn't get SplitLabeledData to work with a 2-arg fromFunc\n",
    "func speakerLabeler (item: Path) -> String {\n",
    "    return reLabeler(item, pat: pat)\n",
    "}"
   ]
  },
  {
   "cell_type": "code",
   "execution_count": null,
   "metadata": {},
   "outputs": [
    {
     "name": "stdout",
     "output_type": "stream",
     "text": [
      "m0002\r\n"
     ]
    }
   ],
   "source": [
    "print(speakerLabeler(item: wavpath))"
   ]
  },
  {
   "cell_type": "markdown",
   "metadata": {},
   "source": [
    "\"No-op\" and Category processors. According to `11_imagenette`, we need these; I don't grok why yet."
   ]
  },
  {
   "cell_type": "code",
   "execution_count": null,
   "metadata": {},
   "outputs": [],
   "source": [
    "var (procItem,procLabel) = (NoopProcessor<Path>(),CategoryProcessor())"
   ]
  },
  {
   "cell_type": "code",
   "execution_count": null,
   "metadata": {},
   "outputs": [],
   "source": [
    "let sld = SplitLabeledData(sd, fromFunc: speakerLabeler, procItem: &procItem, procLabel: &procLabel)"
   ]
  },
  {
   "cell_type": "code",
   "execution_count": null,
   "metadata": {},
   "outputs": [
    {
     "name": "stdout",
     "output_type": "stream",
     "text": [
      "Path : /home/saeta/.fastai/data/ST-AEDS-20180100_1-OS/m0002_us_m0002_00056.wav\r\n",
      "Int32 : 6\r\n",
      "String : m0002\r\n",
      "Array<String> : [\"f0001\", \"f0002\", \"f0003\", \"f0004\", \"f0005\", \"m0001\", \"m0002\", \"m0003\", \"m0004\", \"m0005\"]\r\n"
     ]
    }
   ],
   "source": [
    "// What did that do?\n",
    "print(type(of: sld.train.items[0]),\":\", sld.train.items[0])\n",
    "print(type(of: sld.train.labels[0]),\":\", sld.train.labels[0])\n",
    "print(type(of: sld.train.rawLabel(0)),\":\", sld.train.rawLabel(0))\n",
    "print(type(of: sld.train.procLabel.vocab!),\":\", sld.train.procLabel.vocab!)"
   ]
  },
  {
   "cell_type": "code",
   "execution_count": null,
   "metadata": {},
   "outputs": [],
   "source": [
    "let rawData = sld.toDataBunch(itemToTensor: pathsToTensor, labelToTensor: intsToTensor, bs: 64)"
   ]
  },
  {
   "cell_type": "code",
   "execution_count": null,
   "metadata": {},
   "outputs": [
    {
     "name": "stdout",
     "output_type": "stream",
     "text": [
      "Optional(FastaiNotebook_10_mixup_ls.LabeledElement<TensorFlow.StringTensor, TensorFlow.Tensor<Swift.Int32>>(xb: TensorFlow.StringTensor(handle: TensorFlow.TensorHandle<Swift.String>(handle: TensorFlow.TFETensorHandle)), yb: [1, 7, 1, 8, 8, 0, 0, 2, 5, 0, 0, 3, 3, 5, 9, 7, 0, 1, 6, 6, 2, 7, 3, 7, 2, 1, 0, 3, 9, 6, 1, 9, 2, 9, 2, 1, 3, 3, 5, 5, 2, 6, 2, 2, 7, 6, 2, 3, 9, 4, 7, 3, 1, 4, 5, 4, 7, 6, 6, 5, 7, 0, 1, 2]))\r\n"
     ]
    }
   ],
   "source": [
    "print(rawData.train.oneBatch())"
   ]
  },
  {
   "cell_type": "markdown",
   "metadata": {},
   "source": [
    "Note that the `xb` of `rawData` is full of `StringTensor`s, not `FloatTensors` - that's because we've got to load them into first WAVs, then spectrograms.\n",
    "\n",
    "I'm going to load and spectrogrammify them in the same transform because I don't know how to appy >1 transform at a time yet."
   ]
  },
  {
   "cell_type": "markdown",
   "metadata": {},
   "source": [
    "Also, if we put it in a Databunch now it wouldn't work because the WAVs are different lengths. We could make this easier on ourselves by pre-processing in a different notebook/step, but let's trim the tensors to a given length after we load them.\n",
    "\n",
    "I'm not clear on whether this ought to be done as a Processor or a Transform. Here, I'll do it in a Transform, because I'm confused by the Processor - particularly the `deprocess` methods (and also because I don't know how to apply >1 tfm)."
   ]
  },
  {
   "cell_type": "code",
   "execution_count": null,
   "metadata": {},
   "outputs": [],
   "source": [
    "public func openAndTrimAndSpectro(fname: StringTensor, len: Int = 16000, \n",
    "                                 windowSize: Int64 = 1024, stride: Int64 = 256, \n",
    "                                 magnitudeSquared: Bool = false) -> TF{\n",
    "    let (sig,sr) = StringTensor(readFile: fname).decodeWav()\n",
    "    let shortSig = sig[..<len]\n",
    "    let spec = Raw.audioSpectrogram(shortSig, \n",
    "                                windowSize: windowSize, stride: stride, \n",
    "                                    magnitudeSquared: magnitudeSquared)\n",
    "    return spec\n",
    "}"
   ]
  },
  {
   "cell_type": "code",
   "execution_count": null,
   "metadata": {},
   "outputs": [],
   "source": [
    "let data = transformData(rawData, tfmItem: { openAndTrimAndSpectro(fname: $0, \n",
    "                                                                  len: 16000,\n",
    "                                                                  windowSize:1024,\n",
    "                                                                  stride:128,\n",
    "                                                                  magnitudeSquared:false) })"
   ]
  },
  {
   "cell_type": "code",
   "execution_count": null,
   "metadata": {},
   "outputs": [],
   "source": [
    "let batch = data.train.oneBatch()!"
   ]
  },
  {
   "cell_type": "code",
   "execution_count": null,
   "metadata": {},
   "outputs": [],
   "source": [
    "// clone of 08_data_block.showImages, except the dimension to imshow()\n",
    "public func showSpecs(_ xb: TF, labels: [String]? = nil) {\n",
    "    let (rows,cols) = (3,3)\n",
    "//     plt.figure(figsize: [9, 9])\n",
    "    for i in 0..<(rows * cols) {\n",
    "        let img = plt.subplot(rows, cols, i + 1)\n",
    "        img.axis(\"off\")\n",
    "        let x = xb[i].makeNumpyArray()\n",
    "        img.imshow(x[0]) // <- this is why it's different to showImg, dims are different\n",
    "        if labels != nil { img.set_title(labels![i]) }\n",
    "        if (i + 1) >= (rows * cols) { break }\n",
    "    }\n",
    "    plt.tight_layout()\n",
    "    plt.show()\n",
    "}"
   ]
  },
  {
   "cell_type": "code",
   "execution_count": null,
   "metadata": {},
   "outputs": [
    {
     "data": {
      "image/png": "[encoded data removed]",
      "text/plain": [
       "<Figure size 432x288 with 9 Axes>"
      ]
     },
     "metadata": {
      "needs_background": "light"
     },
     "output_type": "display_data"
    }
   ],
   "source": [
    "let labels = batch.yb.scalars.map { sld.train.procLabel.vocab![Int($0)] }\n",
    "showSpecs(batch.xb, labels: labels)"
   ]
  },
  {
   "cell_type": "markdown",
   "metadata": {},
   "source": [
    "## Training"
   ]
  },
  {
   "cell_type": "markdown",
   "metadata": {},
   "source": [
    "### 08_data_block method — **CRASHES THE KERNEL.**"
   ]
  },
  {
   "cell_type": "markdown",
   "metadata": {},
   "source": [
    "Stolen wholesale & without thinking from `08_data_block`. "
   ]
  },
  {
   "cell_type": "code",
   "execution_count": null,
   "metadata": {},
   "outputs": [
    {
     "ename": "",
     "evalue": "",
     "output_type": "error",
     "traceback": [
      "error: <Cell 33>:2:23: error: use of undeclared type 'CNNModel'\nfunc optFunc(_ model: CNNModel) -> SGD<CNNModel> { return SGD(for: model, learningRate: 0.1) }\n                      ^~~~~~~~\n\nerror: <Cell 33>:2:40: error: use of undeclared type 'CNNModel'\nfunc optFunc(_ model: CNNModel) -> SGD<CNNModel> { return SGD(for: model, learningRate: 0.1) }\n                                       ^~~~~~~~\n\nerror: <Cell 33>:3:21: error: use of undeclared type 'CNNModel'\nfunc modelInit() -> CNNModel { return CNNModel(channelIn: 1, nOut: 10, filters: [64, 64, 128, 256]) }\n                    ^~~~~~~~\n\n"
     ]
    }
   ],
   "source": [
    "// Using CNNModel as defined in 08_data_block notebook.\n",
    "func optFunc(_ model: CNNModel) -> SGD<CNNModel> { return SGD(for: model, learningRate: 0.1) }\n",
    "func modelInit() -> CNNModel { return CNNModel(channelIn: 1, nOut: 10, filters: [64, 64, 128, 256]) }\n",
    "let learner = Learner(data: data, lossFunc: softmaxCrossEntropy, optFunc: optFunc, modelInit: modelInit)\n",
    "let recorder = learner.makeDefaultDelegates(metrics: [accuracy])\n",
    "// learner.addDelegate(learner.makeNormalize(mean: imagenetStats.mean, std: imagenetStats.std))"
   ]
  },
  {
   "cell_type": "markdown",
   "metadata": {},
   "source": [
    "Let's try to get our dataset stats for normalization, in case that makes a difference. I don't think it will, because `08_data_block` runs fine both with & without the normalizer."
   ]
  },
  {
   "cell_type": "code",
   "execution_count": null,
   "metadata": {},
   "outputs": [],
   "source": [
    "// learner.fit(1) // CRASHES KERNEL; TF-619"
   ]
  },
  {
   "cell_type": "markdown",
   "metadata": {},
   "source": [
    "### 11_imagenette method  — **CRASHES THE KERNEL.**"
   ]
  },
  {
   "cell_type": "markdown",
   "metadata": {},
   "source": [
    "Stolen wholesale & without thinking from `11_imagenette`. "
   ]
  },
  {
   "cell_type": "code",
   "execution_count": null,
   "metadata": {},
   "outputs": [],
   "source": [
    "public struct ConvLayer: Layer {\n",
    "    public var bn: FABatchNorm<Float>\n",
    "    public var conv: FANoBiasConv2D<Float>\n",
    "    \n",
    "    public init(_ cIn: Int, _ cOut: Int, ks: Int = 3, stride: Int = 1, zeroBn: Bool = false, act: Bool = true){\n",
    "        bn = FABatchNorm(featureCount: cOut)\n",
    "        conv = FANoBiasConv2D(cIn, cOut, ks: ks, stride: stride, activation: act ? relu : identity)\n",
    "        if zeroBn { bn.scale = Tensor(zeros: [cOut]) }\n",
    "    }\n",
    "    \n",
    "    @differentiable\n",
    "    public func callAsFunction(_ input: TF) -> TF {\n",
    "        return bn(conv(input))\n",
    "    }\n",
    "}"
   ]
  },
  {
   "cell_type": "code",
   "execution_count": null,
   "metadata": {},
   "outputs": [],
   "source": [
    "//A layer that you can switch off to do the identity instead\n",
    "public protocol SwitchableLayer: Layer {\n",
    "    associatedtype Input\n",
    "    var isOn: Bool {get set}\n",
    "    \n",
    "    @differentiable func forward(_ input: Input) -> Input\n",
    "}\n",
    "\n",
    "public extension SwitchableLayer {\n",
    "    func callAsFunction(_ input: Input) -> Input {\n",
    "        return isOn ? forward(input) : input\n",
    "    }\n",
    "\n",
    "    @differentiating(callAsFunction)\n",
    "    func gradForward(_ input: Input) ->\n",
    "        (value: Input, pullback: (Self.Input.TangentVector) ->\n",
    "            (Self.TangentVector, Self.Input.TangentVector)) {\n",
    "        if isOn { return valueWithPullback(at: input) { $0($1) } }\n",
    "        else { return (input, {v in return (Self.TangentVector.zero, v)}) }\n",
    "    }\n",
    "}"
   ]
  },
  {
   "cell_type": "code",
   "execution_count": null,
   "metadata": {},
   "outputs": [],
   "source": [
    "public struct MaybeAvgPool2D: SwitchableLayer {\n",
    "    var pool: FAAvgPool2D<Float>\n",
    "    @noDerivative public var isOn = false\n",
    "    \n",
    "    @differentiable public func forward(_ input: TF) -> TF { return pool(input) }\n",
    "    \n",
    "    public init(_ sz: Int) {\n",
    "        isOn = (sz > 1)\n",
    "        pool = FAAvgPool2D<Float>(sz)\n",
    "    }\n",
    "}"
   ]
  },
  {
   "cell_type": "code",
   "execution_count": null,
   "metadata": {},
   "outputs": [],
   "source": [
    "public struct MaybeConv: SwitchableLayer {\n",
    "    var conv: ConvLayer\n",
    "    @noDerivative public var isOn = false\n",
    "    \n",
    "    @differentiable public func forward(_ input: TF) -> TF { return conv(input) }\n",
    "    \n",
    "    public init(_ cIn: Int, _ cOut: Int) {\n",
    "        isOn = (cIn > 1) || (cOut > 1)\n",
    "        conv = ConvLayer(cIn, cOut, ks: 1, act: false)\n",
    "    }\n",
    "}"
   ]
  },
  {
   "cell_type": "code",
   "execution_count": null,
   "metadata": {},
   "outputs": [],
   "source": [
    "public struct ResBlock: Layer {\n",
    "    public var convs: [ConvLayer]\n",
    "    public var idConv: MaybeConv\n",
    "    public var pool: MaybeAvgPool2D\n",
    "    \n",
    "    public init(_ expansion: Int, _ ni: Int, _ nh: Int, stride: Int = 1){\n",
    "        let (nf, nin) = (nh*expansion,ni*expansion)\n",
    "        convs = [ConvLayer(nin, nh, ks: 1)]\n",
    "        convs += (expansion==1) ? [\n",
    "            ConvLayer(nh, nf, ks: 3, stride: stride, zeroBn: true, act: false)\n",
    "        ] : [\n",
    "            ConvLayer(nh, nh, ks: 3, stride: stride),\n",
    "            ConvLayer(nh, nf, ks: 1, zeroBn: true, act: false)\n",
    "        ]\n",
    "        idConv = nin==nf ? MaybeConv(1,1) : MaybeConv(nin, nf)\n",
    "        pool = MaybeAvgPool2D(stride)\n",
    "    }\n",
    "    \n",
    "    @differentiable\n",
    "    public func callAsFunction(_ inp: TF) -> TF {\n",
    "        return relu(convs(inp) + idConv(pool(inp)))\n",
    "    }\n",
    "    \n",
    "}"
   ]
  },
  {
   "cell_type": "code",
   "execution_count": null,
   "metadata": {},
   "outputs": [],
   "source": [
    "func makeLayer(_ expansion: Int, _ ni: Int, _ nf: Int, _ nBlocks: Int, stride: Int) -> [ResBlock] {\n",
    "    return Array(0..<nBlocks).map { ResBlock(expansion, $0==0 ? ni : nf, nf, stride: $0==0 ? stride : 1) }\n",
    "}"
   ]
  },
  {
   "cell_type": "code",
   "execution_count": null,
   "metadata": {},
   "outputs": [],
   "source": [
    "public struct XResNet: Layer {\n",
    "    public var stem: [ConvLayer]\n",
    "    public var maxPool = MaxPool2D<Float>(poolSize: (3,3), strides: (2,2), padding: .same)\n",
    "    public var blocks: [ResBlock]\n",
    "    public var pool = GlobalAvgPool2D<Float>()\n",
    "    public var linear: Dense<Float>\n",
    "    \n",
    "    public init(_ expansion: Int, _ layers: [Int], cIn: Int = 3, cOut: Int = 1000){\n",
    "        var nfs = [cIn, (cIn+1)*8, 64, 64]\n",
    "        stem = Array(0..<3).map{ ConvLayer(nfs[$0], nfs[$0+1], stride: $0==0 ? 2 : 1)}\n",
    "        nfs = [64/expansion,64,128,256,512]\n",
    "        blocks = Array(layers.enumerated()).map { (i,l) in \n",
    "            return makeLayer(expansion, nfs[i], nfs[i+1], l, stride: i==0 ? 1 : 2)\n",
    "        }.reduce([], +)\n",
    "        linear = Dense(inputSize: nfs.last!*expansion, outputSize: cOut)\n",
    "    }\n",
    "    \n",
    "    @differentiable\n",
    "    public func callAsFunction(_ inp: TF) -> TF {\n",
    "        return linear(pool(blocks(maxPool(stem(inp)))))\n",
    "    }\n",
    "    \n",
    "}"
   ]
  },
  {
   "cell_type": "code",
   "execution_count": null,
   "metadata": {},
   "outputs": [],
   "source": [
    "func xresnet18 (cIn: Int = 3, cOut: Int = 1000) -> XResNet { return XResNet(1, [2, 2, 2, 2], cIn: cIn, cOut: cOut) }\n",
    "func xresnet34 (cIn: Int = 3, cOut: Int = 1000) -> XResNet { return XResNet(1, [3, 4, 6, 3], cIn: cIn, cOut: cOut) }\n",
    "func xresnet50 (cIn: Int = 3, cOut: Int = 1000) -> XResNet { return XResNet(4, [3, 4, 6, 3], cIn: cIn, cOut: cOut) }\n",
    "func xresnet101(cIn: Int = 3, cOut: Int = 1000) -> XResNet { return XResNet(4, [3, 4, 23, 3], cIn: cIn, cOut: cOut) }\n",
    "func xresnet152(cIn: Int = 3, cOut: Int = 1000) -> XResNet { return XResNet(4, [3, 8, 36, 3], cIn: cIn, cOut: cOut) }"
   ]
  },
  {
   "cell_type": "code",
   "execution_count": null,
   "metadata": {},
   "outputs": [],
   "source": [
    "func modelInit() -> XResNet { return xresnet34(cIn: 1, cOut: 10) }"
   ]
  },
  {
   "cell_type": "code",
   "execution_count": null,
   "metadata": {},
   "outputs": [],
   "source": [
    "let optFunc: (XResNet) -> StatefulOptimizer<XResNet> = adamOpt(lr: 1e-3, mom: 0.9, beta: 0.99, wd: 1e-2, eps: 1e-6)"
   ]
  },
  {
   "cell_type": "code",
   "execution_count": null,
   "metadata": {},
   "outputs": [],
   "source": [
    "let learner = Learner(data: data, lossFunc: softmaxCrossEntropy, optFunc: optFunc, modelInit: modelInit)"
   ]
  },
  {
   "cell_type": "code",
   "execution_count": null,
   "metadata": {},
   "outputs": [],
   "source": [
    "let recorder = learner.makeDefaultDelegates(metrics: [accuracy])\n",
    "// learner.addDelegate(learner.makeNormalize(mean: imagenetStats.mean, std: imagenetStats.std))"
   ]
  },
  {
   "cell_type": "code",
   "execution_count": null,
   "metadata": {},
   "outputs": [],
   "source": [
    "learner.addOneCycleDelegates(1e-3, pctStart: 0.5)\n",
    "// learner.fit(5) // CRASHES KERNEL; TF-619"
   ]
  },
  {
   "cell_type": "markdown",
   "metadata": {},
   "source": [
    "## Fin."
   ]
  },
  {
   "cell_type": "code",
   "execution_count": null,
   "metadata": {},
   "outputs": [],
   "source": []
  }
 ],
 "metadata": {
  "kernelspec": {
   "display_name": "Swift",
   "language": "swift",
   "name": "swift"
  }
 },
 "nbformat": 4,
 "nbformat_minor": 2
}
