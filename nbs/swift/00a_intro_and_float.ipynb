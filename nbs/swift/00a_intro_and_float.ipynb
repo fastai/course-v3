{
 "cells": [
  {
   "cell_type": "code",
   "execution_count": null,
   "metadata": {},
   "outputs": [
    {
     "name": "stdout",
     "output_type": "stream",
     "text": [
      "Installing packages:\n",
      "\t.package(path: \"/home/jupyter/notebooks/swift/FastaiNotebook_00_load_data\")\n",
      "\t\tFastaiNotebook_00_load_data\n",
      "With SwiftPM flags: []\n",
      "Working in: /tmp/tmpn7ezuwcx/swift-install\n",
      "warning: /home/jupyter/swift/usr/bin/swiftc: /home/jupyter/anaconda3/lib/libuuid.so.1: no version information available (required by /home/jupyter/swift/usr/bin/swiftc)\n",
      "/home/jupyter/swift/usr/bin/swift: /home/jupyter/anaconda3/lib/libuuid.so.1: no version information available (required by /home/jupyter/swift/usr/bin/swift)\n",
      "warning: /home/jupyter/swift/usr/bin/swiftc: /home/jupyter/anaconda3/lib/libuuid.so.1: no version information available (required by /home/jupyter/swift/usr/bin/swiftc)\n",
      "/home/jupyter/swift/usr/bin/swift: /home/jupyter/anaconda3/lib/libuuid.so.1: no version information available (required by /home/jupyter/swift/usr/bin/swift)\n",
      "warning: /home/jupyter/swift/usr/bin/swiftc: /home/jupyter/anaconda3/lib/libuuid.so.1: no version information available (required by /home/jupyter/swift/usr/bin/swiftc)\n",
      "/home/jupyter/swift/usr/bin/swift: /home/jupyter/anaconda3/lib/libuuid.so.1: no version information available (required by /home/jupyter/swift/usr/bin/swift)\n",
      "warning: /home/jupyter/swift/usr/bin/swiftc: /home/jupyter/anaconda3/lib/libuuid.so.1: no version information available (required by /home/jupyter/swift/usr/bin/swiftc)\n",
      "/home/jupyter/swift/usr/bin/swift: /home/jupyter/anaconda3/lib/libuuid.so.1: no version information available (required by /home/jupyter/swift/usr/bin/swift)\n",
      "warning: /home/jupyter/swift/usr/bin/swiftc: /home/jupyter/anaconda3/lib/libuuid.so.1: no version information available (required by /home/jupyter/swift/usr/bin/swiftc)\n",
      "/home/jupyter/swift/usr/bin/swift: /home/jupyter/anaconda3/lib/libuuid.so.1: no version information available (required by /home/jupyter/swift/usr/bin/swift)\n",
      "/home/jupyter/swift/usr/bin/swiftc: /home/jupyter/anaconda3/lib/libuuid.so.1: no version information available (required by /home/jupyter/swift/usr/bin/swiftc)\n",
      "/home/jupyter/swift/usr/bin/swiftc: /home/jupyter/anaconda3/lib/libuuid.so.1: no version information available (required by /home/jupyter/swift/usr/bin/swiftc)[1/2] Compiling FastaiNotebook_00_load_data 00_load_data.swift\n",
      "/home/jupyter/swift/usr/bin/swift: /home/jupyter/anaconda3/lib/libuuid.so.1: no version information available (required by /home/jupyter/swift/usr/bin/swift)\n",
      "[2/3] Merging module FastaiNotebook_00_load_data\n",
      "/home/jupyter/swift/usr/bin/swift: /home/jupyter/anaconda3/lib/libuuid.so.1: no version information available (required by /home/jupyter/swift/usr/bin/swift)\n",
      "/home/jupyter/swift/usr/bin/swiftc: /home/jupyter/anaconda3/lib/libuuid.so.1: no version information available (required by /home/jupyter/swift/usr/bin/swiftc)[3/4] Compiling jupyterInstalledPackages jupyterInstalledPackages.swift\n",
      "/home/jupyter/swift/usr/bin/swift: /home/jupyter/anaconda3/lib/libuuid.so.1: no version information available (required by /home/jupyter/swift/usr/bin/swift)\n",
      "[4/5] Merging module jupyterInstalledPackages\n",
      "/home/jupyter/swift/usr/bin/swift: /home/jupyter/anaconda3/lib/libuuid.so.1: no version information available (required by /home/jupyter/swift/usr/bin/swift)\n",
      "/home/jupyter/swift/usr/bin/swiftc: /home/jupyter/anaconda3/lib/libuuid.so.1: no version information available (required by /home/jupyter/swift/usr/bin/swiftc)\n",
      "/home/jupyter/swift/usr/bin/swift-autolink-extract: /home/jupyter/anaconda3/lib/libuuid.so.1: no version information available (required by /home/jupyter/swift/usr/bin/swift-autolink-extract)\n",
      "[5/5] Linking libjupyterInstalledPackages.so\n",
      "Initializing Swift...\n",
      "Installation complete!\n"
     ]
    }
   ],
   "source": [
    "%install-location $cwd/swift-install\n",
    "%install '.package(path: \"$cwd/FastaiNotebook_00_load_data\")' FastaiNotebook_00_load_data"
   ]
  },
  {
   "cell_type": "code",
   "execution_count": null,
   "metadata": {},
   "outputs": [],
   "source": [
    "import FastaiNotebook_00_load_data"
   ]
  },
  {
   "cell_type": "markdown",
   "metadata": {},
   "source": [
    "# Hello Swift"
   ]
  },
  {
   "cell_type": "markdown",
   "metadata": {},
   "source": [
    "### Constants, variables and types"
   ]
  },
  {
   "cell_type": "markdown",
   "metadata": {},
   "source": [
    "The first thing you'll notice about Swift is that it has variables (`var`) and constants (`let`)."
   ]
  },
  {
   "cell_type": "code",
   "execution_count": null,
   "metadata": {},
   "outputs": [
    {
     "name": "stdout",
     "output_type": "stream",
     "text": [
      "some integers: 6 25\r\n"
     ]
    }
   ],
   "source": [
    "// These are integers\n",
    "let batchSize = 6\n",
    "var b = 1 + (4 * batchSize)\n",
    "print(\"some integers:\", batchSize, b)"
   ]
  },
  {
   "cell_type": "code",
   "execution_count": null,
   "metadata": {},
   "outputs": [
    {
     "name": "stdout",
     "output_type": "stream",
     "text": [
      "some floats:  3.1 3.1415925\r\n"
     ]
    }
   ],
   "source": [
    "// These are floating point values.\n",
    "var myPi = 3.1\n",
    "let π    = Float.pi\n",
    "print(\"some floats: \", myPi, π)"
   ]
  },
  {
   "cell_type": "markdown",
   "metadata": {},
   "source": [
    "Constants cannot be changed after they are set:"
   ]
  },
  {
   "cell_type": "code",
   "execution_count": null,
   "metadata": {},
   "outputs": [
    {
     "ename": "",
     "evalue": "",
     "output_type": "error",
     "traceback": [
      "error: <Cell 5>:1:1: error: cannot assign to value: 'batchSize' is a 'let' constant\nbatchSize = 8\n^~~~~~~~~\n\n<Cell 3>:2:1: note: change 'let' to 'var' to make it mutable\nlet batchSize = 6\n^~~\nvar\n\n"
     ]
    }
   ],
   "source": [
    "batchSize = 8"
   ]
  },
  {
   "cell_type": "markdown",
   "metadata": {},
   "source": [
    "Swift also has types... and type inference.  This means you often don't have to specify the types, but they are there, and can be used to override type inference:\n"
   ]
  },
  {
   "cell_type": "code",
   "execution_count": null,
   "metadata": {},
   "outputs": [
    {
     "name": "stdout",
     "output_type": "stream",
     "text": [
      "dog poo\r\n",
      "some types:  Float String\r\n"
     ]
    }
   ],
   "source": [
    "// Type inference would produce an integer, but we make this be a float.\n",
    "var someFloat : Float = 1 + 4*9\n",
    "\n",
    "// Jeremy might not like greek letters, but he surely loves emoji 😬\n",
    "var 🐶💩 = \"dog poo\"\n",
    "print(🐶💩)\n",
    "\n",
    "\n",
    "// This is the equivalent of the Python 'type' operator.\n",
    "print(\"some types: \", type(of: someFloat), type(of: 🐶💩))"
   ]
  },
  {
   "cell_type": "markdown",
   "metadata": {},
   "source": [
    "### Whitespace, functions, tuples, and structs in Swift "
   ]
  },
  {
   "cell_type": "markdown",
   "metadata": {},
   "source": [
    "Functions are declare with `func` instead of `def` in Swift.  They include types, and default to having argument labels."
   ]
  },
  {
   "cell_type": "code",
   "execution_count": null,
   "metadata": {},
   "outputs": [
    {
     "data": {
      "text/plain": [
       "2.236068\n"
      ]
     },
     "execution_count": null,
     "metadata": {},
     "output_type": "execute_result"
    }
   ],
   "source": [
    "func distance(x: Float, y: Float) -> Float {\n",
    "    return sqrt(x*x+y*y)\n",
    "}\n",
    "\n",
    "// Functions default to having argument labels:\n",
    "distance(x: 1.0, y: 2.0)"
   ]
  },
  {
   "cell_type": "markdown",
   "metadata": {},
   "source": [
    "Sometimes argument labels are the wrong thing, and sometimes you want the caller to use a different argument label than you want to use as the name inside of a function.  To support this, Swift allows you to use two names for each argument, and the underscore means \"ignore\".\n",
    "\n",
    "Swift also has tuples just like Python, and you can use them to return multiple results:"
   ]
  },
  {
   "cell_type": "code",
   "execution_count": null,
   "metadata": {},
   "outputs": [
    {
     "data": {
      "text/plain": [
       "▿ 2 elements\n",
       "  - .0 : -3.019916e-07\n",
       "  - .1 : 1.0\n"
      ]
     },
     "execution_count": null,
     "metadata": {},
     "output_type": "execute_result"
    }
   ],
   "source": [
    "func sincos(_ value: Float) -> (Float, Float) {\n",
    "    return (sin(value), cos(value))\n",
    "}\n",
    "\n",
    "sincos(2*π)"
   ]
  },
  {
   "cell_type": "markdown",
   "metadata": {},
   "source": [
    "Destructuring works like in Python:"
   ]
  },
  {
   "cell_type": "code",
   "execution_count": null,
   "metadata": {},
   "outputs": [
    {
     "data": {
      "text/plain": [
       "-1.3165069\n"
      ]
     },
     "execution_count": null,
     "metadata": {},
     "output_type": "execute_result"
    }
   ],
   "source": [
    "let (s, c) = sincos(42)\n",
    "s + c"
   ]
  },
  {
   "cell_type": "markdown",
   "metadata": {},
   "source": [
    "And you can also access the elements with `.0`, `.1`..."
   ]
  },
  {
   "cell_type": "code",
   "execution_count": null,
   "metadata": {},
   "outputs": [
    {
     "data": {
      "text/plain": [
       "0.8090276\n"
      ]
     },
     "execution_count": null,
     "metadata": {},
     "output_type": "execute_result"
    }
   ],
   "source": [
    "let tupleValue = sincos(213)\n",
    "tupleValue.1"
   ]
  },
  {
   "cell_type": "markdown",
   "metadata": {},
   "source": [
    "Structures are a little bit like a class in Python.  You can define structures with the `struct` keyword, which gives you a name for a type.  Structs are super efficient (no memory allocation etc) and allow you to access the fields conveniently:"
   ]
  },
  {
   "cell_type": "code",
   "execution_count": null,
   "metadata": {},
   "outputs": [
    {
     "name": "stdout",
     "output_type": "stream",
     "text": [
      "ComplexF(real: 1.0, imag: 12.0)\r\n"
     ]
    }
   ],
   "source": [
    "struct ComplexF {\n",
    "    var real, imag : Float\n",
    "}\n",
    "\n",
    "var someComplex = ComplexF(real: 1.0, imag: 12.0)\n",
    "print(someComplex)"
   ]
  },
  {
   "cell_type": "markdown",
   "metadata": {},
   "source": [
    "This is very similar to a [dataclass](https://docs.python.org/3/library/dataclasses.html) in Python:\n",
    "```python\n",
    "@dataclass\n",
    "class ComplexF:\n",
    "    real:float\n",
    "    imag:float\n",
    "\n",
    "someComplex = ComplexF(1.0, 12.0)\n",
    "print(someComplex)\n",
    "```"
   ]
  },
  {
   "cell_type": "markdown",
   "metadata": {},
   "source": [
    "Once you have types, you want to write generic code.  Generics in Swift work very differently than Java or C++ generics, but the syntax is similar.  Let's make this type generic, and add some computed properties:\n",
    "\n"
   ]
  },
  {
   "cell_type": "code",
   "execution_count": null,
   "metadata": {},
   "outputs": [],
   "source": [
    "struct Complex<T : SignedNumeric> {\n",
    "    var real, imag : T\n",
    "    \n",
    "    // This is a read only computed property.\n",
    "    var conj : Complex { return Complex(real: real, imag: -imag) }\n",
    "    \n",
    "    // Here's a computed property with a setter, that returns the imaginary\n",
    "    // component negated, just to show how to do this.  A more realistic\n",
    "    // use case would be to provide a polar coordinate projection.\n",
    "    var imagNegated : T {\n",
    "        get { return -imag }\n",
    "        set { imag = -newValue }\n",
    "    }\n",
    "}"
   ]
  },
  {
   "cell_type": "markdown",
   "metadata": {},
   "source": [
    "We can then define a `Complex` structure that takes `Int` or `Double`. Swift automatically infers the type."
   ]
  },
  {
   "cell_type": "code",
   "execution_count": null,
   "metadata": {},
   "outputs": [
    {
     "name": "stdout",
     "output_type": "stream",
     "text": [
      "Complex<Int>(real: 1, imag: 12)\r\n",
      "Complex<Float>(real: 1.0, imag: 3.1415925)\r\n"
     ]
    }
   ],
   "source": [
    "var complexInt = Complex(real: 1, imag: 12)\n",
    "var complexDouble = Complex(real: 1.0, imag: π)\n",
    "print(complexInt, complexDouble, separator: \"\\n\")"
   ]
  },
  {
   "cell_type": "code",
   "execution_count": null,
   "metadata": {},
   "outputs": [
    {
     "name": "stdout",
     "output_type": "stream",
     "text": [
      "Conj:      Complex<Int>(real: 1, imag: -12)\r\n"
     ]
    }
   ],
   "source": [
    "print(\"Conj:     \", complexInt.conj)"
   ]
  },
  {
   "cell_type": "markdown",
   "metadata": {},
   "source": [
    "The `imagNegated` propery we defined is a *computed property*. It's not a stored value in memory but is calculated when asked to by the user from the structure state. We can define a setter for it that will adapt the stored properties of the structure with respect to the `newValue` we pass."
   ]
  },
  {
   "cell_type": "code",
   "execution_count": null,
   "metadata": {},
   "outputs": [
    {
     "name": "stdout",
     "output_type": "stream",
     "text": [
      "property:  12 -12\r\n",
      "Complex<Int>(real: 1, imag: -4)\r\n"
     ]
    }
   ],
   "source": [
    "print(\"property: \", complexInt.imag, complexInt.imagNegated)\n",
    "complexInt.imagNegated = 4\n",
    "print(complexInt)"
   ]
  },
  {
   "cell_type": "markdown",
   "metadata": {},
   "source": [
    "Swift lets you add things to types that are already defined with **Extensions** to types, using the `extension` keyword.  You can even extend a type implemented by someone else, no problem. Here we give an `add` method to `Complex`:"
   ]
  },
  {
   "cell_type": "code",
   "execution_count": null,
   "metadata": {},
   "outputs": [],
   "source": [
    "extension Complex {\n",
    "    func add(_ other: Complex) -> Complex {\n",
    "        return Complex(real: real + other.real,\n",
    "                       imag: imag + other.imag)\n",
    "    }\n",
    "}"
   ]
  },
  {
   "cell_type": "code",
   "execution_count": null,
   "metadata": {},
   "outputs": [
    {
     "name": "stdout",
     "output_type": "stream",
     "text": [
      "☑️Original:  Complex<Float>(real: 1.0, imag: 3.1415925)\r\n",
      "⤴️Moved:     Complex<Float>(real: 11.0, imag: 13.141592)\r\n",
      "2️⃣Doubled:   Complex<Float>(real: 2.0, imag: 6.283185)\r\n"
     ]
    }
   ],
   "source": [
    "print(\"☑️Original: \", complexDouble)\n",
    "print(\"⤴️Moved:    \", complexDouble.add(Complex(real: 10, imag: 10)))\n",
    "print(\"2️⃣Doubled:  \", complexDouble.add(complexDouble))\n"
   ]
  },
  {
   "cell_type": "markdown",
   "metadata": {},
   "source": [
    "Defining an 'add' method makes me sad though, because this is math! Fortunately **operators** are just functions in Swift, and are defined with `func`. "
   ]
  },
  {
   "cell_type": "code",
   "execution_count": null,
   "metadata": {},
   "outputs": [
    {
     "name": "stdout",
     "output_type": "stream",
     "text": [
      "added:  Complex<Int>(real: 2, imag: -8)\r\n"
     ]
    }
   ],
   "source": [
    "extension Complex {\n",
    "    static func + (lhs: Complex, rhs: Complex) -> Complex {\n",
    "        return Complex(real: lhs.real + lhs.real, \n",
    "                       imag: lhs.imag + rhs.imag)\n",
    "    }\n",
    "}\n",
    "\n",
    "print(\"added: \", complexInt + complexInt)"
   ]
  },
  {
   "cell_type": "markdown",
   "metadata": {},
   "source": [
    "You can even define your own operators if you feel like it. Please don't get too crazy."
   ]
  },
  {
   "cell_type": "code",
   "execution_count": null,
   "metadata": {},
   "outputs": [
    {
     "name": "stdout",
     "output_type": "stream",
     "text": [
      "Complex<Float>(real: 1.0, imag: 3.1415925)\r\n"
     ]
    }
   ],
   "source": [
    "prefix operator √\n",
    "\n",
    "// Complex square root returns two different complex numbers.\n",
    "prefix func √(value: Complex<Float>) -> (Complex<Float>, Complex<Float>) {\n",
    "    // Implemention omitted - just return the same thing for simplicity.\n",
    "    return (value, value)\n",
    "}\n",
    "\n",
    "let (root1, root2) = √complexDouble\n",
    "print(root1)"
   ]
  },
  {
   "cell_type": "markdown",
   "metadata": {},
   "source": [
    "\n",
    "\n",
    "**Wrapping up:** Okay, that's your basic introduction to Swift.  If you'd like a longer tour about high level Swift language features and concepts, there is an online [guided tour to Swift](https://docs.swift.org/swift-book/GuidedTour/GuidedTour.html) on swift.org.\n",
    "\n",
    "Now lets talk about ... Python?!\n",
    "\n"
   ]
  },
  {
   "cell_type": "markdown",
   "metadata": {},
   "source": [
    "# Swift loves Python 🐍 too"
   ]
  },
  {
   "cell_type": "markdown",
   "metadata": {},
   "source": [
    "One of the cool things about Swift for TensorFlow is that we can directly call into Python.  First we import Python into Swift."
   ]
  },
  {
   "cell_type": "code",
   "execution_count": null,
   "metadata": {},
   "outputs": [],
   "source": [
    "import Python"
   ]
  },
  {
   "cell_type": "markdown",
   "metadata": {},
   "source": [
    "You can import arbitrary Python modules and directly use them. No wrappers, interface libraries, code generators, or build steps."
   ]
  },
  {
   "cell_type": "code",
   "execution_count": null,
   "metadata": {},
   "outputs": [],
   "source": [
    "public let np = Python.import(\"numpy\")\n",
    "public let plt = Python.import(\"matplotlib.pyplot\")"
   ]
  },
  {
   "cell_type": "markdown",
   "metadata": {},
   "source": [
    "Err, Python in Swift??  Yep, Swift is super dynamic too, so it can directly talk to the Python runtime.  We'll talk about that later."
   ]
  },
  {
   "cell_type": "code",
   "execution_count": null,
   "metadata": {},
   "outputs": [
    {
     "data": {
      "text/plain": [
       "[1 2 3 4]\n"
      ]
     },
     "execution_count": null,
     "metadata": {},
     "output_type": "execute_result"
    }
   ],
   "source": [
    "let npArray = np.array([1,2,3,4])\n",
    "npArray"
   ]
  },
  {
   "cell_type": "markdown",
   "metadata": {},
   "source": [
    "Why do we want this?  Well it turns out that the entire datascience ecosystem is in Python, and many of you are comfortable with Python APIs.  Swift can do lots of things, but Python is just fine for basic things like reading files, so there's no need to change what isn't broken!\n"
   ]
  },
  {
   "cell_type": "markdown",
   "metadata": {},
   "source": [
    "# Using Python and matplotlib to visualize data"
   ]
  },
  {
   "cell_type": "markdown",
   "metadata": {},
   "source": [
    "`loadMNIST` is defined in workbook 00_load_data. It loads the data into TensorFlow Tensors, which is why we need to import TensorFlow."
   ]
  },
  {
   "cell_type": "code",
   "execution_count": null,
   "metadata": {},
   "outputs": [],
   "source": [
    "import TensorFlow\n",
    "let (xTrain, yTrain, xValid, yValid) = loadMNIST(path: mnistPath, flat: true)"
   ]
  },
  {
   "cell_type": "markdown",
   "metadata": {},
   "source": [
    "That just loaded a TensorFlow Tensor:"
   ]
  },
  {
   "cell_type": "code",
   "execution_count": null,
   "metadata": {},
   "outputs": [
    {
     "name": "stdout",
     "output_type": "stream",
     "text": [
      "Tensor<Float>\r\n",
      "[60000, 784]\r\n",
      "[60000]\r\n",
      "[10000, 784]\r\n",
      "[10000]\r\n"
     ]
    }
   ],
   "source": [
    "print(type(of: xTrain))\n",
    "print(xTrain.shape, yTrain.shape, xValid.shape, yValid.shape, separator: \"\\n\")\n"
   ]
  },
  {
   "cell_type": "markdown",
   "metadata": {},
   "source": [
    "For now though we won't talk much about the Tensor API, come back to it later."
   ]
  },
  {
   "cell_type": "markdown",
   "metadata": {},
   "source": [
    "### Using matplotlib\n",
    "\n",
    "Let's take a look at an example from MNIST. We have already imported numpy and matplotlib.pyplot. This is the equivalent of the magic `%matplotlib inline` in a python notebook, it will let us see the plots:"
   ]
  },
  {
   "cell_type": "code",
   "execution_count": null,
   "metadata": {},
   "outputs": [
    {
     "data": {
      "text/plain": [
       "('inline', 'module://ipykernel.pylab.backend_inline')\n"
      ]
     },
     "execution_count": null,
     "metadata": {},
     "output_type": "execute_result"
    }
   ],
   "source": [
    "%include \"EnableIPythonDisplay.swift\"\n",
    "IPythonDisplay.shell.enable_matplotlib(\"inline\")"
   ]
  },
  {
   "cell_type": "markdown",
   "metadata": {},
   "source": [
    "It's super easy to turn an example from the Tensor into a NumPy array."
   ]
  },
  {
   "cell_type": "code",
   "execution_count": null,
   "metadata": {},
   "outputs": [],
   "source": [
    "let img = xTrain[0].makeNumpyArray().reshape(28, 28)"
   ]
  },
  {
   "cell_type": "markdown",
   "metadata": {},
   "source": [
    "Then we can plot it like this:"
   ]
  },
  {
   "cell_type": "code",
   "execution_count": null,
   "metadata": {},
   "outputs": [
    {
     "data": {
      "image/png": "[encoded data removed]",
      "text/plain": [
       "<Figure size 360x360 with 1 Axes>"
      ]
     },
     "metadata": {
      "needs_background": "light"
     },
     "output_type": "display_data"
    },
    {
     "data": {
      "text/plain": [
       "None\n"
      ]
     },
     "execution_count": null,
     "metadata": {},
     "output_type": "execute_result"
    }
   ],
   "source": [
    "plt.figure(figsize: [5,5])\n",
    "plt.show(plt.imshow(X: img, cmap: \"gray\"))"
   ]
  },
  {
   "cell_type": "markdown",
   "metadata": {},
   "source": [
    "### How does this work?\n",
    "\n",
    "Python is a dynamically typed language ... but another way to look at it is that it has exactly one static type.  Swift calls it `PythonObject`."
   ]
  },
  {
   "cell_type": "code",
   "execution_count": null,
   "metadata": {},
   "outputs": [
    {
     "name": "stdout",
     "output_type": "stream",
     "text": [
      "NumPy Module Type:  PythonObject\r\n",
      "NumPy Function Type:  PythonObject\r\n",
      "NumPy Array Type:  PythonObject\r\n",
      "[2 4 6 8] 2\r\n",
      "<class 'numpy.ndarray'>\r\n",
      "<class 'numpy.ndarray'>\r\n"
     ]
    }
   ],
   "source": [
    "print(\"NumPy Module Type: \", type(of: np))\n",
    "print(\"NumPy Function Type: \", type(of: np.array))\n",
    "print(\"NumPy Array Type: \", type(of: npArray))\n",
    "print(npArray*2, npArray[1])\n",
    "\n",
    "print(Python.type(npArray))\n",
    "print(npArray.__class__)"
   ]
  },
  {
   "cell_type": "markdown",
   "metadata": {},
   "source": [
    "This works really well in practice, because Swift is talking to Python dynamically - exactly as it was designed to be used.  You can even import and use the entire [fastai PyTorch framework and use it from Swift](https://github.com/Omarsf/swiftTransit/blob/master/SwiftWrappedLesson1Preliminary.ipynb)!"
   ]
  },
  {
   "cell_type": "markdown",
   "metadata": {},
   "source": [
    "# \"Impractical\" Programming Languages\n",
    "\n",
    "We now have a bit of a grasp on how Swift basics work, but we're taking a lot for granted here!  We are supposed to be building an entire machine learning framework from scratch!\n",
    "\n",
    "Jeremy started by showing you how to implement a MatMul using an array of floating point scalars, \"from the foundations\".  Apparently, Jeremy thinks this is the foundations:\n",
    "\n",
    "```python\n",
    "def matmul(a,b):\n",
    "    ar,ac = a.shape # n_rows * n_cols\n",
    "    br,bc = b.shape\n",
    "    assert ac==br\n",
    "    c = torch.zeros(ar, bc)\n",
    "    for i in range(ar):\n",
    "        for j in range(bc):\n",
    "            for k in range(ac): # or br\n",
    "                c[i,j] += a[i,k] * b[k,j]\n",
    "    return c\n",
    "```\n",
    "\n",
    "Let's do it properly, this time... by going down to the bedrock.  First let's talk more about what programming languages are, how compilers work, and then we can understand what Swift really is.\n",
    "\n",
    "**Slides**: [What is a Compiler](https://docs.google.com/presentation/d/1dc6o2o-uYGnJeCeyvgsgyk05dBMneArxdICW5vF75oU/edit#slide=id.g5674d3ead7_0_83)\n"
   ]
  },
  {
   "cell_type": "markdown",
   "metadata": {},
   "source": [
    "## Building Float\n",
    "\n",
    "Ok, now we know how to build Float, Double, Int, etc.  One really nice thing is that this generates really great code."
   ]
  },
  {
   "cell_type": "code",
   "execution_count": null,
   "metadata": {},
   "outputs": [],
   "source": [
    "// Really simple math\n",
    "func squareAdd(n: Float) -> Float {\n",
    "    let tmp = n * n\n",
    "    let result = tmp + 1.0\n",
    "    return result\n",
    "}"
   ]
  },
  {
   "cell_type": "markdown",
   "metadata": {},
   "source": [
    "You can see the generated X86 assembly the [Compiler Explorer](https://godbolt.org/z/Xns8IA)!  It is optimal, and exactly what you get from the Clang C compiler, because it is built on top of the same LLVM code generator.\n",
    "\n",
    "Because `Int` and `Float` are implemented in the standard library, you can actually see the underlying field if you know where to look:"
   ]
  },
  {
   "cell_type": "code",
   "execution_count": null,
   "metadata": {},
   "outputs": [
    {
     "name": "stdout",
     "output_type": "stream",
     "text": [
      "Builtin.Int64\r\n",
      "Builtin.FPIEEE32\r\n"
     ]
    }
   ],
   "source": [
    "var someInt = 42\n",
    "print(type(of: someInt._value))\n",
    "print(type(of: π._value))\n"
   ]
  },
  {
   "cell_type": "markdown",
   "metadata": {},
   "source": [
    "That said you can't do anything useful with it - only the Swift standard library gets to use the functionality defined in the Builtin module. It is a private interface between the standard library and the compiler, and the stdlib reexports all of its functionality."
   ]
  },
  {
   "cell_type": "code",
   "execution_count": null,
   "metadata": {},
   "outputs": [
    {
     "ename": "",
     "evalue": "",
     "output_type": "error",
     "traceback": [
      "error: <Cell 31>:1:8: error: no such module 'Builtin'\nimport Builtin\n       ^\n\n"
     ]
    }
   ],
   "source": [
    "import Builtin"
   ]
  },
  {
   "cell_type": "markdown",
   "metadata": {},
   "source": [
    "A cool thing is that since these things are normal types, you can add your own operators and methods to them, just like you can with any other type:"
   ]
  },
  {
   "cell_type": "code",
   "execution_count": null,
   "metadata": {},
   "outputs": [],
   "source": [
    "extension Int {\n",
    "  var isOdd : Bool { return self & 1 != 0 }\n",
    "}\n",
    "\n",
    "extension Bool {\n",
    "  var symbol : String { return self ? \"👍\" : \"👎\" }\n",
    "}\n"
   ]
  },
  {
   "cell_type": "markdown",
   "metadata": {},
   "source": [
    "String literals can be multi-line, and also support interpolation with `\\()`."
   ]
  },
  {
   "cell_type": "code",
   "execution_count": null,
   "metadata": {},
   "outputs": [
    {
     "name": "stdout",
     "output_type": "stream",
     "text": [
      "Feeling odd?\r\n",
      "  Lets check  4: false\r\n",
      "  what about 17: true\r\n",
      "  Lets check  4: 👎\r\n",
      "  What about 17: 👍\r\n"
     ]
    }
   ],
   "source": [
    "print(\"\"\"\n",
    "      Feeling odd?\n",
    "        Lets check  4: \\(     4.isOdd         )\n",
    "        what about 17: \\(    17.isOdd         )\n",
    "        Lets check  4: \\(     4.isOdd.symbol  )\n",
    "        What about 17: \\(    17.isOdd.symbol  )\n",
    "      \"\"\")"
   ]
  },
  {
   "cell_type": "markdown",
   "metadata": {},
   "source": [
    "A lot of the Swift \"language\" is implemented in the standard library, including primitive types like `Bool` as well.  Check out how short circuiting `&&` and `||` operators are [implemented right in the standard library](https://github.com/apple/swift/blob/master/stdlib/public/core/Bool.swift#L245).  Even primitives like `assert` are just [functions implemented in Swift](https://github.com/apple/swift/blob/master/stdlib/public/core/Assert.swift#L13).\n",
    "\n",
    "\n",
    "```swift\n",
    "  public static func && (lhs: Bool, rhs: @autoclosure () -> Bool) -> Bool {\n",
    "    return lhs ? rhs() : false\n",
    "  }\n",
    "```"
   ]
  },
  {
   "cell_type": "markdown",
   "metadata": {},
   "source": [
    "## Looking inside Array\n",
    "\n",
    "Of course, `Array` and `String` are also written in Swift and provided by the standard library.  Array in Swift contains a pointer to the elements and a size and a reserved capacity.  Let's try it out to see how it works.\n",
    "\n",
    "Arrays work with type inference:"
   ]
  },
  {
   "cell_type": "code",
   "execution_count": null,
   "metadata": {},
   "outputs": [],
   "source": [
    "var myArray = [1,2,3,4,5,6]"
   ]
  },
  {
   "cell_type": "markdown",
   "metadata": {},
   "source": [
    "You can write array types with `[]` syntax, which is what most people do..."
   ]
  },
  {
   "cell_type": "code",
   "execution_count": null,
   "metadata": {},
   "outputs": [],
   "source": [
    "var myArray2 : [Int] = myArray"
   ]
  },
  {
   "cell_type": "markdown",
   "metadata": {},
   "source": [
    "But this is just synactic sugar for the `Array` type."
   ]
  },
  {
   "cell_type": "code",
   "execution_count": null,
   "metadata": {},
   "outputs": [],
   "source": [
    "var myArray3 : Array<Int> = myArray"
   ]
  },
  {
   "cell_type": "markdown",
   "metadata": {},
   "source": [
    "You can see that all of these have the exact same type, even though they are written in different ways:"
   ]
  },
  {
   "cell_type": "code",
   "execution_count": null,
   "metadata": {},
   "outputs": [
    {
     "name": "stdout",
     "output_type": "stream",
     "text": [
      "Array<Int> Array<Int> Array<Int>\r\n"
     ]
    }
   ],
   "source": [
    "print(type(of: myArray), type(of: myArray2), type(of: myArray3))"
   ]
  },
  {
   "cell_type": "markdown",
   "metadata": {},
   "source": [
    "Swift arrays support all the normal stuff you'd expect, like iteration, indexing, slicing etc. \n",
    "\n",
    "Here is a standard `for` loop:"
   ]
  },
  {
   "cell_type": "code",
   "execution_count": null,
   "metadata": {},
   "outputs": [
    {
     "name": "stdout",
     "output_type": "stream",
     "text": [
      "1\r\n",
      "2\r\n",
      "3\r\n",
      "4\r\n",
      "5\r\n",
      "6\r\n"
     ]
    }
   ],
   "source": [
    "// Standard `for` loop\n",
    "for x in myArray {\n",
    "    print(x)\n",
    "}"
   ]
  },
  {
   "cell_type": "markdown",
   "metadata": {},
   "source": [
    "You index or slice with brackets. The Swift slicing operators are `...` for inclusive (including the endpoint) and `..<` for exclusive ranges.  You'll see `..<` the most often:"
   ]
  },
  {
   "cell_type": "code",
   "execution_count": null,
   "metadata": {},
   "outputs": [
    {
     "name": "stdout",
     "output_type": "stream",
     "text": [
      "element: 1\r\n",
      "slice:   [2, 3, 4]\r\n",
      "slice:   [2, 3]\r\n"
     ]
    }
   ],
   "source": [
    "print(\"element:\", myArray[0])\n",
    "print(\"slice:  \", myArray[1...3])  // inclusive - includes \"3\"\n",
    "print(\"slice:  \", myArray[1..<3])  // exclusive"
   ]
  },
  {
   "cell_type": "markdown",
   "metadata": {},
   "source": [
    "`map` applies a function (closure) to every element in the array. Swift closures are like Python lambda's. You can name the argument to the lambda if you'd like:"
   ]
  },
  {
   "cell_type": "code",
   "execution_count": null,
   "metadata": {},
   "outputs": [
    {
     "name": "stdout",
     "output_type": "stream",
     "text": [
      "mapped:    [11, 12, 13, 14, 15, 16]\r\n"
     ]
    }
   ],
   "source": [
    "print(\"mapped:   \", myArray.map({ arg in arg + 10 }))"
   ]
  },
  {
   "cell_type": "markdown",
   "metadata": {},
   "source": [
    "Arguments can also be anonymous, and default to `$0`, `$1`, `$2`, which are nice for concise functional algorithms. \n",
    "\n",
    "`filter` returns an array with the elements for which the function returns `true`"
   ]
  },
  {
   "cell_type": "code",
   "execution_count": null,
   "metadata": {},
   "outputs": [
    {
     "name": "stdout",
     "output_type": "stream",
     "text": [
      "filtered:  [1, 3, 5]\r\n"
     ]
    }
   ],
   "source": [
    "print(\"filtered: \", myArray.filter({ $0.isOdd }))"
   ]
  },
  {
   "cell_type": "markdown",
   "metadata": {},
   "source": [
    "Functions with trailing closures can omit the parens or move the closure after the parens, which allows you to write nice and fluent code:"
   ]
  },
  {
   "cell_type": "code",
   "execution_count": null,
   "metadata": {},
   "outputs": [
    {
     "name": "stdout",
     "output_type": "stream",
     "text": [
      "oddity:    [\"👍\", \"👎\", \"👍\", \"👎\", \"👍\", \"👎\"]\r\n",
      "processed: [3, 9, 15]\r\n"
     ]
    }
   ],
   "source": [
    "print(\"oddity:   \", myArray.map{ $0.isOdd.symbol })\n",
    "print(\"processed:\", myArray.map{ $0*3 }.filter{ $0.isOdd })"
   ]
  },
  {
   "cell_type": "markdown",
   "metadata": {},
   "source": [
    "`map` and `filter` are extremely important functions that we never use in Python because they are inefficient, so you'll have to learn to use them in Swift. The last important function is `reduce` that will compute a value from your array by going from an initial value and applying an operator:"
   ]
  },
  {
   "cell_type": "code",
   "execution_count": null,
   "metadata": {},
   "outputs": [
    {
     "name": "stdout",
     "output_type": "stream",
     "text": [
      "sum:  21\r\n"
     ]
    }
   ],
   "source": [
    "print(\"sum: \", myArray.reduce(0, +))"
   ]
  },
  {
   "cell_type": "markdown",
   "metadata": {},
   "source": [
    "Since `Array` is a type like any other, of course you can put your own methods on it with an extension:"
   ]
  },
  {
   "cell_type": "code",
   "execution_count": null,
   "metadata": {},
   "outputs": [
    {
     "name": "stdout",
     "output_type": "stream",
     "text": [
      "[2, 4, 6]\r\n"
     ]
    }
   ],
   "source": [
    "extension Array where Element : Numeric {\n",
    "    func doubleElements() -> Array {\n",
    "        return self.map { $0 * 2 }\n",
    "    }\n",
    "}\n",
    "\n",
    "print([1,2,3].doubleElements())"
   ]
  },
  {
   "cell_type": "markdown",
   "metadata": {},
   "source": [
    "You might be wondering what the `where Element : Numeric` thing is on that extension.  That is saying that the `doubleElements` method only exists on arrays whose elements are numeric.  Other sorts of arrays don't get this method because they can't multiply the elements by two.  For example, try it out on an array of strings or bool (which aren't considered to be numeric) to see what happens:"
   ]
  },
  {
   "cell_type": "code",
   "execution_count": null,
   "metadata": {},
   "outputs": [
    {
     "ename": "",
     "evalue": "",
     "output_type": "error",
     "traceback": [
      "error: <Cell 45>:1:27: error: referencing instance method 'doubleElements()' on 'Array' requires that 'Bool' conform to 'Numeric'\nprint([true, false, true].doubleElements())\n                          ^\n\n<Cell 44>:1:1: note: where 'Element' = 'Bool'\nextension Array where Element : Numeric {\n^\n\n"
     ]
    }
   ],
   "source": [
    "print([true, false, true].doubleElements())"
   ]
  },
  {
   "cell_type": "markdown",
   "metadata": {},
   "source": [
    "If you are curious about `Array` please dive [into the code in the standard library](https://github.com/apple/swift/blob/master/stdlib/public/core/Array.swift#L300).  It is all written in Swift, but uses somewhat more advanced features than we've introduced so far.  For example, you can see how it [implements subscripting of an element](https://github.com/apple/swift/blob/master/stdlib/public/core/Array.swift#L677).\n",
    "\n",
    "If you're interested in diving into other things, [`Dictionary`](https://github.com/apple/swift/blob/tensorflow/stdlib/public/core/Dictionary.swift#L13) and [`Set`](https://github.com/apple/swift/blob/tensorflow/stdlib/public/core/Set.swift#L13) are also interesting and have some massive doc comments explaining how they work.\n",
    "\n",
    "\n",
    "Now that we have seen how Float and Arrays are defined, we're allowed to use them - so we can define a matmul!  Onward to [01_matmul](https://github.com/fastai/fastai_docs/tree/master/dev_swift)."
   ]
  }
 ],
 "metadata": {
  "kernelspec": {
   "display_name": "Swift",
   "language": "swift",
   "name": "swift"
  }
 },
 "nbformat": 4,
 "nbformat_minor": 2
}
