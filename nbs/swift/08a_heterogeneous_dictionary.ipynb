{
 "cells": [
  {
   "cell_type": "code",
   "execution_count": null,
   "metadata": {},
   "outputs": [
    {
     "name": "stdout",
     "output_type": "stream",
     "text": [
      "Installing packages:\n",
      "\t.package(path: \"/home/ubuntu/dev_swift/FastaiNotebook_08_data_block\")\n",
      "\t\tFastaiNotebook_08_data_block\n",
      "With SwiftPM flags: []\n",
      "Working in: /tmp/tmpo0t48in8/swift-install\n",
      "Updating https://github.com/JustHTTP/Just\n",
      "Updating https://github.com/mxcl/Path.swift\n",
      "Updating https://github.com/latenitesoft/NotebookExport\n",
      "Completed resolution in 3.57s\n",
      "Compile Swift Module 'FastaiNotebook_08_data_block' (12 sources)\n",
      "Compile Swift Module 'jupyterInstalledPackages' (1 sources)\n",
      "Linking ./.build/x86_64-unknown-linux/debug/libjupyterInstalledPackages.so\n",
      "Initializing Swift...\n",
      "Installation complete!\n"
     ]
    }
   ],
   "source": [
    "%install-location $cwd/swift-install\n",
    "%install '.package(path: \"$cwd/FastaiNotebook_08_data_block\")' FastaiNotebook_08_data_block"
   ]
  },
  {
   "cell_type": "code",
   "execution_count": null,
   "metadata": {},
   "outputs": [],
   "source": [
    "//export\n",
    "import Path"
   ]
  },
  {
   "cell_type": "code",
   "execution_count": null,
   "metadata": {},
   "outputs": [],
   "source": [
    "import FastaiNotebook_08_data_block"
   ]
  },
  {
   "cell_type": "code",
   "execution_count": null,
   "metadata": {},
   "outputs": [],
   "source": [
    "// export\n",
    "public protocol HetDictKey {\n",
    "    associatedtype ValueType\n",
    "    static var defaultValue: ValueType { get }\n",
    "}"
   ]
  },
  {
   "cell_type": "code",
   "execution_count": null,
   "metadata": {},
   "outputs": [],
   "source": [
    "// export\n",
    "\n",
    "public struct HeterogeneousDictionary {\n",
    "    private var underlying: [ObjectIdentifier : Any] = [:]\n",
    "    \n",
    "    public init() {}\n",
    "    public init<T: HetDictKey>(_ key: T.Type, _ value: T.ValueType) {\n",
    "        self.underlying = [ObjectIdentifier(key): value]\n",
    "    }\n",
    "    public init<T1: HetDictKey, T2: HetDictKey>(_ key1: T1.Type, _ value1: T1.ValueType, _ key2: T2.Type, _ value2: T2.ValueType) {\n",
    "        self.underlying = [ObjectIdentifier(key1): value1, ObjectIdentifier(key2): value2]\n",
    "    }\n",
    "\n",
    "    public subscript<T: HetDictKey>(key: T.Type) -> T.ValueType {\n",
    "        get { return underlying[ObjectIdentifier(key), default: T.defaultValue] as! T.ValueType }\n",
    "        set { underlying[ObjectIdentifier(key)] = newValue as Any }\n",
    "    }\n",
    "    \n",
    "    public mutating func merge(_ other: HeterogeneousDictionary,\n",
    "        uniquingKeysWith combine: (Any, Any) throws -> Any) rethrows {\n",
    "        try self.underlying.merge(other.underlying, uniquingKeysWith: combine)\n",
    "    }\n",
    "}\n"
   ]
  },
  {
   "cell_type": "code",
   "execution_count": null,
   "metadata": {},
   "outputs": [],
   "source": [
    "// export\n",
    "// Common keys\n",
    "public struct LearningRate: HetDictKey {\n",
    "    public static var defaultValue: Float = 0.4\n",
    "}"
   ]
  },
  {
   "cell_type": "code",
   "execution_count": null,
   "metadata": {},
   "outputs": [],
   "source": [
    "public struct StepCount: HetDictKey {\n",
    "    public static var defaultValue = 0\n",
    "}"
   ]
  },
  {
   "cell_type": "code",
   "execution_count": null,
   "metadata": {},
   "outputs": [],
   "source": [
    "// Sample usage\n",
    "var m = HeterogeneousDictionary()\n"
   ]
  },
  {
   "cell_type": "code",
   "execution_count": null,
   "metadata": {},
   "outputs": [
    {
     "name": "stdout",
     "output_type": "stream",
     "text": [
      "0.4\r\n",
      "3.4\r\n",
      "0\r\n",
      "3\r\n"
     ]
    }
   ],
   "source": [
    "print(m[LearningRate.self])\n",
    "m[LearningRate.self] = 3.4\n",
    "print(m[LearningRate.self])\n",
    "\n",
    "print(m[StepCount.self])\n",
    "m[StepCount.self] = 3\n",
    "print(m[StepCount.self])\n"
   ]
  },
  {
   "cell_type": "code",
   "execution_count": null,
   "metadata": {},
   "outputs": [
    {
     "name": "stdout",
     "output_type": "stream",
     "text": [
      "Int\r\n",
      "Float\r\n"
     ]
    }
   ],
   "source": [
    "print(type(of: m[StepCount.self]))\n",
    "print(type(of: m[LearningRate.self]))\n"
   ]
  },
  {
   "cell_type": "markdown",
   "metadata": {},
   "source": [
    "## Export"
   ]
  },
  {
   "cell_type": "code",
   "execution_count": null,
   "metadata": {},
   "outputs": [
    {
     "name": "stdout",
     "output_type": "stream",
     "text": [
      "success\r\n"
     ]
    }
   ],
   "source": [
    "import NotebookExport\n",
    "let exporter = NotebookExport(Path.cwd/\"08a_heterogeneous_dictionary.ipynb\")\n",
    "print(exporter.export(usingPrefix: \"FastaiNotebook_\"))"
   ]
  },
  {
   "cell_type": "code",
   "execution_count": null,
   "metadata": {},
   "outputs": [],
   "source": []
  }
 ],
 "metadata": {
  "kernelspec": {
   "display_name": "Swift",
   "language": "swift",
   "name": "swift"
  }
 },
 "nbformat": 4,
 "nbformat_minor": 2
}
